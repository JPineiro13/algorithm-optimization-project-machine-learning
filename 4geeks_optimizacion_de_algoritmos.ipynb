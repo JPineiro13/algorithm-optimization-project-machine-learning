{
  "nbformat": 4,
  "nbformat_minor": 0,
  "metadata": {
    "colab": {
      "provenance": [],
      "authorship_tag": "ABX9TyPojj53B1S7AHjKYqRwEGN0",
      "include_colab_link": true
    },
    "kernelspec": {
      "name": "python3",
      "display_name": "Python 3"
    },
    "language_info": {
      "name": "python"
    }
  },
  "cells": [
    {
      "cell_type": "markdown",
      "metadata": {
        "id": "view-in-github",
        "colab_type": "text"
      },
      "source": [
        "<a href=\"https://colab.research.google.com/github/JPineiro13/algorithm-optimization-project-machine-learning/blob/main/4geeks_optimizacion_de_algoritmos.ipynb\" target=\"_parent\"><img src=\"https://colab.research.google.com/assets/colab-badge.svg\" alt=\"Open In Colab\"/></a>"
      ]
    },
    {
      "cell_type": "code",
      "execution_count": 4,
      "metadata": {
        "colab": {
          "base_uri": "https://localhost:8080/"
        },
        "id": "xr2f_w_R-N_6",
        "outputId": "f2dda70e-9604-44c5-9a65-5db1c0035138"
      },
      "outputs": [
        {
          "output_type": "stream",
          "name": "stdout",
          "text": [
            "'the' aparece un total de 4 veces\n",
            "'of' aparece un total de 3 veces\n",
            "'a' aparece un total de 2 veces\n",
            "'she' aparece un total de 2 veces\n",
            "'her' aparece un total de 2 veces\n"
          ]
        }
      ],
      "source": [
        "#Ej 1\n",
        "\n",
        "import string\n",
        "from collections import Counter\n",
        "\n",
        "\n",
        "def procesador_mejorado(text):\n",
        "    texto = text.lower()\n",
        "\n",
        "#Usamos translate para no tener que hacer un bucle\n",
        "    translator = str.maketrans(\"\", \"\", string.punctuation)\n",
        "    texto = text.translate(translator)\n",
        "\n",
        "    words = text.split()\n",
        "    frequencies = Counter(words)\n",
        "\n",
        "\n",
        "    palabras_comunes = frequencies.most_common(5)\n",
        "\n",
        "    for palabra, veces in palabras_comunes:\n",
        "        print(f\"'{palabra}' aparece un total de {veces} veces\")\n",
        "\n",
        "texto = \"\"\"\n",
        "    In the heart of the city, Emily discovered a quaint little café, hidden away from the bustling streets.\n",
        "    The aroma of freshly baked pastries wafted through the air, drawing in passersby. As she sipped on her latte,\n",
        "    she noticed an old bookshelf filled with classics, creating a cozy atmosphere that made her lose track of time.\n",
        "\"\"\"\n",
        "procesador_mejorado(texto)\n",
        "\n"
      ]
    },
    {
      "cell_type": "code",
      "source": [
        "#Ej 2.\n",
        "\n",
        "# Olvidemos el Pequeño Teorema de Fermat. Esta fórmula, si bien no es tan rápida,\n",
        "# está muy bien pensada y funciona para todos los casos.\n",
        "# ^.?$|^(..+?)\\1+$.   <--- Esto genera números primos.\n",
        "# Voy a explicar cada parte:\n",
        "\n",
        "# Supongamos que tenemos estas dos frases normales:\n",
        "# \"este código hace justo lo que estamos buscando\"\n",
        "# \"jesus se ha vuelto a obsesionar con un ejercicio de optimización\"\n",
        "\n",
        "# Si quiero buscar aquí mi nombre \"jesus\" como un string, podría indicarlo con \"jesus\"\n",
        "# De esta manera, el programa nos devolverá true solamente para la segunda frase,\n",
        "#ya que la primera no contiene la cadena \"jesus\" en ningún punto.\n",
        "\n",
        "# Los puntos que aparecen en la fórmula son un \"comodín\" en el que puedes poner el\n",
        "# caracter que quieras\n",
        "# Si en lugar de eso decidiera buscar j.s.. , entonces me encontraría con que ahora\n",
        "# las dos frases me dan true, ya que tanto \"justo\" como \"jesus\" tienen la estructura j.s..\n",
        "\n",
        "# Ahora pasamos al símbolo +\n",
        "# Este signfica \"más de lo anterior\". Cuánto? Cualquier cantidad (por lo menos uno)\n",
        "# Por ejemplo, si pongo j.+s el programa me va a buscar una \"j\", seguida de al menos\n",
        "# un comodín (.) y al final una \"s\".\n",
        "# Y entonces nos dará todos esto como válido:\n",
        "# \"jus\" \"justo lo que es\" \"justo lo que estamos\" \"justo lo que estamos bus\". <--- En el caso de la primera frase\n",
        "# \"jes\" \"jesus\" \"jesus s\" \"jesus se ha vuelto a obs\" \"jesus se ha vuelto a obses\" <--- En elcaso de la segunda\n",
        "# Así que nos va a dar ambas frases como buenas\n",
        "\n",
        "#En este caso no nos interesan todos los strings, sino solamente el string menor string que cumpla las condiciones\n",
        "# Para eso usamos la interrogación --> ?\n",
        "# La interrogación le dice al programa que tome la primera aparición, es decir, la más corta\n",
        "# En el caso de las frases sería \"jus\" en la primera y \"jes\" en la segunda\n",
        "\n",
        "#Qué pasa con el resto de símbolos?\n",
        "# | <--- Este de aquí es un separador \"or\"\n",
        "# Así que en realidad tenemos dos expresiones\n",
        "# ^.?$     |     ^(..+?)\\1+$\n",
        "# esto     o        esto\n",
        "\n",
        "# ^ significa que la expresión tiene que empezar con lo que venga a continuación\n",
        "# $ significa que la expresión tiene que acabar con lo que venga antes del $\n",
        "# \\1 y esto lo que hace es convertir lo anterior en una secuencia de unos\n",
        "# Por ejemplo 5 = 11111   13 = 1111111111111\n",
        "\n",
        "# .? Este trocito del principio es para comprobar si tenemos solamente un uno o un cero.\n",
        "# Es decir, para contemplar esos dos casos muy pequeños sin que de error\n",
        "# (..+?)\\1+ Este otro, como ya hemos visto, convierte el número en una cadena de 1s y luego\n",
        "# comprueba si hay alguna subcadena de 1s que encaje perfectamente en ese número\n",
        "\n",
        "# Por ejemplo, si el número es 15, hará algo así:\n",
        "\n",
        "# 15 = 111111111111111\n",
        "# Es este número una concatenación de la secuencia 11 varias veces?\n",
        "# 15 = 11 11 11 11 11 11 11 1 ---> NO\n",
        "# Es este número una concatenación de la secuencia 111 varias veces?\n",
        "# 15 = 111 111 111 111 111 ---> SI\n",
        "#Devuelve true\n",
        "\n",
        "#Si le damos 7, hará:\n",
        "# 7 = 1111111\n",
        "\n",
        "# Puedo dividirlo en grupitos de 11?\n",
        "# 7 = 11 11 11 1 ---> NO\n",
        "\n",
        "# Y de 111?\n",
        "# 7 = 111 111 1 ---> NO\n",
        "\n",
        "# Y de 1111?\n",
        "# 7 = 1111 111 ---> NO\n",
        "\n",
        "# Y así sucesivamente\n",
        "\n",
        "#Cuando te encuentras con un número primo, al no poderse dividir en cadenas más pequeñas,\n",
        "# te devolverá false. Así que en realidad este código detecta números compuestos\n",
        "# Por suerte eso es facil de arreglar. Con poner \"not\" al principio ya le hemos dado la vuelta\n",
        "# Y ahora esto: ^.?$|^(..+?)\\1+$ nos sirve para detectar números primos\n",
        "\n",
        "\n",
        "import re\n",
        "\n",
        "def procesar_lista(lista):\n",
        "    duplicar_lista = seleccion_y_duplicacion_pares(lista)\n",
        "    suma = sum(duplicar_lista)\n",
        "    return suma\n",
        "\n",
        "def seleccion_y_duplicacion_pares(lista):\n",
        "    return [num * 2 for num in lista if num % 2 == 0]\n",
        "\n",
        "lista = [1, 2, 3, 4, 5, 6, 7, 8, 9, 10]\n",
        "numero_dado = procesar_lista(lista)\n",
        "\n",
        "print(\"La lista suma\", numero_dado)\n",
        "\n",
        "es_primo = not re.match(r'^.?$|^(..+?)\\1+$', '1' * numero_dado)\n",
        "\n",
        "if es_primo:\n",
        "    print(f\"El {numero_dado} es primo\")\n",
        "else:\n",
        "    print(f\"El {numero_dado} es compuesto\")\n"
      ],
      "metadata": {
        "colab": {
          "base_uri": "https://localhost:8080/"
        },
        "id": "NwQo8ZnoB5qn",
        "outputId": "c2751824-fd87-48b2-9842-5409dd619c00"
      },
      "execution_count": 14,
      "outputs": [
        {
          "output_type": "stream",
          "name": "stdout",
          "text": [
            "La lista suma 60\n",
            "El 60 es compuesto\n"
          ]
        }
      ]
    },
    {
      "cell_type": "code",
      "source": [
        "#Ej. 2 (Dejo aquí pegada la solución que expliqué en clase empleando el Pequeño Teorema de Fermat)\n",
        "\n",
        "#Esta es una de las mayores mejoras que se pueden hacer para el test de primalidad\n",
        "#Se basa en el pequeño teorema de Fermat, y es capaz de determinar la primalidad de cualquier entero\n",
        "#Es un test probabilistico. No obstante, con los números que he elegido como base, tiene un 100%\n",
        "#de fiabilidad para cualquier entero por debajo de un millón\n",
        "\n",
        "#Está optimizado para, en lugar de calcular las potencias y después aplicar la operación de módulo,\n",
        "# realizar la operación de módulo en cada iteración de la potencia, por lo que el número con el que\n",
        "# se trabaja está siempre en un rango manejable para el programa\n",
        "\n",
        "#def procesar_lista(lista):\n",
        "\n",
        "  #suma = sum(duplicar_lista)\n",
        "  #return suma\n",
        "\n",
        "#lista = [1, 2, 3, 4, 5, 6, 7, 8, 9, 10]\n",
        "\n",
        "#def test_primalidad(base, exponente, modulo, veces):\n",
        "    #resultado = pow(base, exponente, modulo)\n",
        "\n",
        "    #for _ in range(veces - 1):\n",
        "        #resultado = (resultado * base) % modulo\n",
        "\n",
        "    #return resultado\n",
        "\n",
        "#numero_dado = procesar_lista(lista)\n",
        "#numero_veces = (numero_dado - 1) // 2\n",
        "\n",
        "#base_2_resultado = test_primalidad(2, 1, numero_dado, numero_veces)\n",
        "#base_3_resultado = test_primalidad(3, 1, numero_dado, numero_veces)\n",
        "\n",
        "#if (base_2_resultado == 1 or base_2_resultado == numero_dado - 1) and \\\n",
        "   #(base_3_resultado == 1 or base_3_resultado == numero_dado - 1):\n",
        "   #print(f\"El {numero_dado} es primo\")\n",
        "#else:\n",
        "    #print(f\"El {numero_dado} es compuesto\")\n",
        "\n",
        "\n",
        "#def seleccion_y_duplicacion_pares(lista):\n",
        "\n",
        "  #return [num * 2 for num in lista if num % 2 == 0]\n",
        "\n",
        "#print(\"La suma de la lista es\", numero_dado)"
      ],
      "metadata": {
        "id": "bS5um5yexI7w"
      },
      "execution_count": 1,
      "outputs": []
    }
  ]
}